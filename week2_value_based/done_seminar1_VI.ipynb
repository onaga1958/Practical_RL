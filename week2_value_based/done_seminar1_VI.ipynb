{
 "cells": [
  {
   "cell_type": "markdown",
   "metadata": {},
   "source": [
    "### Markov decision process\n",
    "\n",
    "This week's methods are all built to solve __M__arkov __D__ecision __P__rocesses. In the broadest sense, an MDP is defined by how it changes states and how rewards are computed.\n",
    "\n",
    "State transition is defined by $P(s' |s,a)$ - how likely are you to end at state $s'$ if you take action $a$ from state $s$. Now there's more than one way to define rewards, but we'll use $r(s,a,s')$ function for convenience.\n",
    "\n",
    "_This notebook is inspired by the awesome_ [CS294](https://github.com/berkeleydeeprlcourse/homework/tree/master/sp17_hw/hw2) _by Berkeley_"
   ]
  },
  {
   "cell_type": "markdown",
   "metadata": {},
   "source": [
    "For starters, let's define a simple MDP from this picture:\n",
    "<img src='https://s17.postimg.org/mawroys8f/750px-_Markov_Decision_Process_example.png' width=300px>\n",
    "_img by MistWiz (Own work) [Public domain], via Wikimedia Commons_"
   ]
  },
  {
   "cell_type": "code",
   "execution_count": 1,
   "metadata": {
    "collapsed": true
   },
   "outputs": [],
   "source": [
    "transition_probs = {\n",
    "  's0':{\n",
    "    'a0': {'s0': 0.5, 's2': 0.5},\n",
    "    'a1': {'s2': 1}\n",
    "  },\n",
    "  's1':{\n",
    "    'a0': {'s0': 0.7, 's1': 0.1, 's2': 0.2},\n",
    "    'a1': {'s1': 0.95, 's2': 0.05}\n",
    "  },\n",
    "  's2':{\n",
    "    'a0': {'s0': 0.4, 's1': 0.6},\n",
    "    'a1': {'s0': 0.3, 's1': 0.3, 's2':0.4}\n",
    "  }\n",
    "}\n",
    "rewards = {\n",
    "  's1': {'a0': {'s0': +5}},\n",
    "  's2': {'a1': {'s0': -1}}\n",
    "}\n",
    "\n",
    "from mdp import MDP\n",
    "mdp = MDP(transition_probs, rewards, initial_state='s0')"
   ]
  },
  {
   "cell_type": "markdown",
   "metadata": {},
   "source": [
    "We can now use MDP just as any other gym environment:"
   ]
  },
  {
   "cell_type": "code",
   "execution_count": 2,
   "metadata": {},
   "outputs": [
    {
     "name": "stdout",
     "output_type": "stream",
     "text": [
      "initial state = s0\n",
      "next_state = s2, reward = 0.0, done = False\n"
     ]
    }
   ],
   "source": [
    "print('initial state =', mdp.reset())\n",
    "next_state, reward, done, info = mdp.step('a1')\n",
    "print('next_state = %s, reward = %s, done = %s' % (next_state, reward, done))"
   ]
  },
  {
   "cell_type": "markdown",
   "metadata": {},
   "source": [
    "but it also has other methods that you'll need for Value Iteration"
   ]
  },
  {
   "cell_type": "code",
   "execution_count": 3,
   "metadata": {},
   "outputs": [
    {
     "name": "stdout",
     "output_type": "stream",
     "text": [
      "mdp.get_all_states = ('s0', 's1', 's2')\n",
      "mdp.get_possible_actions('s1') =  ('a0', 'a1')\n",
      "mdp.get_next_states('s1', 'a0') =  {'s0': 0.7, 's1': 0.1, 's2': 0.2}\n",
      "mdp.get_reward('s1', 'a0', 's0') =  5\n",
      "mdp.get_transition_prob('s1', 'a0', 's0') =  0.7\n"
     ]
    }
   ],
   "source": [
    "print(\"mdp.get_all_states =\", mdp.get_all_states())\n",
    "print(\"mdp.get_possible_actions('s1') = \", mdp.get_possible_actions('s1'))\n",
    "print(\"mdp.get_next_states('s1', 'a0') = \", mdp.get_next_states('s1', 'a0'))\n",
    "print(\"mdp.get_reward('s1', 'a0', 's0') = \", mdp.get_reward('s1', 'a0', 's0'))\n",
    "print(\"mdp.get_transition_prob('s1', 'a0', 's0') = \", mdp.get_transition_prob('s1', 'a0', 's0'))"
   ]
  },
  {
   "cell_type": "markdown",
   "metadata": {},
   "source": [
    "### Value Iteration\n",
    "\n",
    "Now let's build something to solve this MDP. The simplest algorithm so far is __V__alue __I__teration\n",
    "\n",
    "Here's the pseudo-code for VI:\n",
    "\n",
    "---\n",
    "\n",
    "`1.` Initialize $V^{(0)}(s)=0$, for all $s$\n",
    "\n",
    "`2.` For $i=0, 1, 2, \\dots$\n",
    " \n",
    "`3.` $ \\quad V_{(i+1)}(s) = \\max_a \\sum_{s'} P(s' | s,a) \\cdot [ r(s,a,s') + \\gamma V_{i}(s')]$, for all $s$\n",
    "\n",
    "---"
   ]
  },
  {
   "cell_type": "markdown",
   "metadata": {},
   "source": [
    "First, let's write a function to compute the state-action value function $Q^{\\pi}$, defined as follows\n",
    "\n",
    "$$Q_i(s, a) = \\sum_{s'} P(s' | s,a) \\cdot [ r(s,a,s') + \\gamma V_{i}(s')]$$\n"
   ]
  },
  {
   "cell_type": "code",
   "execution_count": 4,
   "metadata": {
    "collapsed": true
   },
   "outputs": [],
   "source": [
    "def get_action_value(mdp, state_values, state, action, gamma):\n",
    "    \"\"\" Computes Q(s,a) as in formula above \"\"\"\n",
    "    q = 0\n",
    "    for next_state, proba in mdp.get_next_states(state, action).items():\n",
    "        q += (mdp.get_reward(state, action, next_state) + gamma*state_values[next_state])*proba\n",
    "    \n",
    "    return q"
   ]
  },
  {
   "cell_type": "code",
   "execution_count": 5,
   "metadata": {
    "collapsed": true
   },
   "outputs": [],
   "source": [
    "import numpy as np\n",
    "test_Vs = {s : i for i, s in enumerate(sorted(mdp.get_all_states()))}\n",
    "assert np.allclose(get_action_value(mdp, test_Vs, 's2', 'a1', 0.9), 0.69)\n",
    "assert np.allclose(get_action_value(mdp, test_Vs, 's1', 'a0', 0.9), 3.95)"
   ]
  },
  {
   "cell_type": "markdown",
   "metadata": {},
   "source": [
    "Using $Q(s,a)$ we can now define the \"next\" V(s) for value iteration.\n",
    " $$V_{(i+1)}(s) = \\max_a \\sum_{s'} P(s' | s,a) \\cdot [ r(s,a,s') + \\gamma V_{i}(s')] = \\max_a Q_i(s,a)$$"
   ]
  },
  {
   "cell_type": "code",
   "execution_count": 6,
   "metadata": {
    "collapsed": true
   },
   "outputs": [],
   "source": [
    "def get_new_state_value(mdp, state_values, state, gamma):\n",
    "    \"\"\" Computes next V(s) as in formula above. Please do not change state_values in process. \"\"\"\n",
    "    if mdp.is_terminal(state): return 0\n",
    "    \n",
    "    \n",
    "    return max([get_action_value(mdp, state_values, state, action, gamma)\n",
    "                for action in mdp.get_possible_actions(state)])"
   ]
  },
  {
   "cell_type": "code",
   "execution_count": 7,
   "metadata": {
    "collapsed": true
   },
   "outputs": [],
   "source": [
    "test_Vs_copy = dict(test_Vs)\n",
    "assert np.allclose(get_new_state_value(mdp, test_Vs, 's0', 0.9), 1.8)\n",
    "assert np.allclose(get_new_state_value(mdp, test_Vs, 's2', 0.9), 0.69)\n",
    "assert test_Vs == test_Vs_copy, \"please do not change state_values in get_new_state_value\""
   ]
  },
  {
   "cell_type": "markdown",
   "metadata": {},
   "source": [
    "Finally, let's combine everything we wrote into a working value iteration algo."
   ]
  },
  {
   "cell_type": "code",
   "execution_count": 8,
   "metadata": {},
   "outputs": [
    {
     "name": "stdout",
     "output_type": "stream",
     "text": [
      "iter    0   |   diff: 3.50000   |   V(s0) = 0.000   V(s1) = 0.000   V(s2) = 0.000\n",
      "\n",
      "iter    1   |   diff: 1.89000   |   V(s0) = 0.000   V(s1) = 3.500   V(s2) = 0.000\n",
      "\n",
      "iter    2   |   diff: 1.70100   |   V(s0) = 0.000   V(s1) = 3.815   V(s2) = 1.890\n",
      "\n",
      "iter    3   |   diff: 1.13542   |   V(s0) = 1.701   V(s1) = 4.184   V(s2) = 2.060\n",
      "\n",
      "iter    4   |   diff: 0.73024   |   V(s0) = 1.854   V(s1) = 5.319   V(s2) = 2.871\n",
      "\n",
      "iter    5   |   diff: 0.61135   |   V(s0) = 2.584   V(s1) = 5.664   V(s2) = 3.540\n",
      "\n",
      "iter    6   |   diff: 0.54664   |   V(s0) = 3.186   V(s1) = 6.275   V(s2) = 3.989\n",
      "\n",
      "iter    7   |   diff: 0.49198   |   V(s0) = 3.590   V(s1) = 6.790   V(s2) = 4.535\n",
      "\n",
      "iter    8   |   diff: 0.42210   |   V(s0) = 4.082   V(s1) = 7.189   V(s2) = 4.959\n",
      "\n",
      "iter    9   |   diff: 0.36513   |   V(s0) = 4.463   V(s1) = 7.611   V(s2) = 5.352\n",
      "\n",
      "iter   10   |   diff: 0.32862   |   V(s0) = 4.816   V(s1) = 7.960   V(s2) = 5.717\n",
      "\n",
      "iter   11   |   diff: 0.29262   |   V(s0) = 5.145   V(s1) = 8.280   V(s2) = 6.032\n",
      "\n",
      "iter   12   |   diff: 0.26189   |   V(s0) = 5.429   V(s1) = 8.572   V(s2) = 6.323\n",
      "\n",
      "iter   13   |   diff: 0.23503   |   V(s0) = 5.691   V(s1) = 8.830   V(s2) = 6.584\n",
      "\n",
      "iter   14   |   diff: 0.21124   |   V(s0) = 5.925   V(s1) = 9.065   V(s2) = 6.817\n",
      "\n",
      "iter   15   |   diff: 0.19012   |   V(s0) = 6.135   V(s1) = 9.276   V(s2) = 7.028\n",
      "\n",
      "iter   16   |   diff: 0.17091   |   V(s0) = 6.325   V(s1) = 9.465   V(s2) = 7.218\n",
      "\n",
      "iter   17   |   diff: 0.15366   |   V(s0) = 6.496   V(s1) = 9.636   V(s2) = 7.388\n",
      "\n",
      "iter   18   |   diff: 0.13830   |   V(s0) = 6.649   V(s1) = 9.790   V(s2) = 7.542\n",
      "\n",
      "iter   19   |   diff: 0.12445   |   V(s0) = 6.788   V(s1) = 9.928   V(s2) = 7.680\n",
      "\n",
      "iter   20   |   diff: 0.11200   |   V(s0) = 6.912   V(s1) = 10.052   V(s2) = 7.805\n",
      "\n",
      "iter   21   |   diff: 0.10079   |   V(s0) = 7.024   V(s1) = 10.164   V(s2) = 7.917\n",
      "\n",
      "iter   22   |   diff: 0.09071   |   V(s0) = 7.125   V(s1) = 10.265   V(s2) = 8.017\n",
      "\n",
      "iter   23   |   diff: 0.08164   |   V(s0) = 7.216   V(s1) = 10.356   V(s2) = 8.108\n",
      "\n",
      "iter   24   |   diff: 0.07347   |   V(s0) = 7.297   V(s1) = 10.437   V(s2) = 8.190\n",
      "\n",
      "iter   25   |   diff: 0.06612   |   V(s0) = 7.371   V(s1) = 10.511   V(s2) = 8.263\n",
      "\n",
      "iter   26   |   diff: 0.05951   |   V(s0) = 7.437   V(s1) = 10.577   V(s2) = 8.329\n",
      "\n",
      "iter   27   |   diff: 0.05356   |   V(s0) = 7.496   V(s1) = 10.636   V(s2) = 8.389\n",
      "\n",
      "iter   28   |   diff: 0.04820   |   V(s0) = 7.550   V(s1) = 10.690   V(s2) = 8.442\n",
      "\n",
      "iter   29   |   diff: 0.04338   |   V(s0) = 7.598   V(s1) = 10.738   V(s2) = 8.491\n",
      "\n",
      "iter   30   |   diff: 0.03904   |   V(s0) = 7.641   V(s1) = 10.782   V(s2) = 8.534\n",
      "\n",
      "iter   31   |   diff: 0.03514   |   V(s0) = 7.681   V(s1) = 10.821   V(s2) = 8.573\n",
      "\n",
      "iter   32   |   diff: 0.03163   |   V(s0) = 7.716   V(s1) = 10.856   V(s2) = 8.608\n",
      "\n",
      "iter   33   |   diff: 0.02846   |   V(s0) = 7.747   V(s1) = 10.887   V(s2) = 8.640\n",
      "\n",
      "iter   34   |   diff: 0.02562   |   V(s0) = 7.776   V(s1) = 10.916   V(s2) = 8.668\n",
      "\n",
      "iter   35   |   diff: 0.02306   |   V(s0) = 7.801   V(s1) = 10.941   V(s2) = 8.694\n",
      "\n",
      "iter   36   |   diff: 0.02075   |   V(s0) = 7.824   V(s1) = 10.964   V(s2) = 8.717\n",
      "\n",
      "iter   37   |   diff: 0.01867   |   V(s0) = 7.845   V(s1) = 10.985   V(s2) = 8.738\n",
      "\n",
      "iter   38   |   diff: 0.01681   |   V(s0) = 7.864   V(s1) = 11.004   V(s2) = 8.756\n",
      "\n",
      "iter   39   |   diff: 0.01513   |   V(s0) = 7.881   V(s1) = 11.021   V(s2) = 8.773\n",
      "\n",
      "iter   40   |   diff: 0.01361   |   V(s0) = 7.896   V(s1) = 11.036   V(s2) = 8.788\n",
      "\n",
      "iter   41   |   diff: 0.01225   |   V(s0) = 7.909   V(s1) = 11.049   V(s2) = 8.802\n",
      "\n",
      "iter   42   |   diff: 0.01103   |   V(s0) = 7.922   V(s1) = 11.062   V(s2) = 8.814\n",
      "\n",
      "iter   43   |   diff: 0.00992   |   V(s0) = 7.933   V(s1) = 11.073   V(s2) = 8.825\n",
      "\n",
      "iter   44   |   diff: 0.00893   |   V(s0) = 7.943   V(s1) = 11.083   V(s2) = 8.835\n",
      "\n",
      "iter   45   |   diff: 0.00804   |   V(s0) = 7.952   V(s1) = 11.092   V(s2) = 8.844\n",
      "\n",
      "iter   46   |   diff: 0.00724   |   V(s0) = 7.960   V(s1) = 11.100   V(s2) = 8.852\n",
      "\n",
      "iter   47   |   diff: 0.00651   |   V(s0) = 7.967   V(s1) = 11.107   V(s2) = 8.859\n",
      "\n",
      "iter   48   |   diff: 0.00586   |   V(s0) = 7.973   V(s1) = 11.113   V(s2) = 8.866\n",
      "\n",
      "iter   49   |   diff: 0.00527   |   V(s0) = 7.979   V(s1) = 11.119   V(s2) = 8.872\n",
      "\n",
      "iter   50   |   diff: 0.00475   |   V(s0) = 7.984   V(s1) = 11.125   V(s2) = 8.877\n",
      "\n",
      "iter   51   |   diff: 0.00427   |   V(s0) = 7.989   V(s1) = 11.129   V(s2) = 8.882\n",
      "\n",
      "iter   52   |   diff: 0.00384   |   V(s0) = 7.993   V(s1) = 11.134   V(s2) = 8.886\n",
      "\n",
      "iter   53   |   diff: 0.00346   |   V(s0) = 7.997   V(s1) = 11.137   V(s2) = 8.890\n",
      "\n",
      "iter   54   |   diff: 0.00311   |   V(s0) = 8.001   V(s1) = 11.141   V(s2) = 8.893\n",
      "\n",
      "iter   55   |   diff: 0.00280   |   V(s0) = 8.004   V(s1) = 11.144   V(s2) = 8.896\n",
      "\n",
      "iter   56   |   diff: 0.00252   |   V(s0) = 8.007   V(s1) = 11.147   V(s2) = 8.899\n",
      "\n",
      "iter   57   |   diff: 0.00227   |   V(s0) = 8.009   V(s1) = 11.149   V(s2) = 8.902\n",
      "\n",
      "iter   58   |   diff: 0.00204   |   V(s0) = 8.011   V(s1) = 11.152   V(s2) = 8.904\n",
      "\n",
      "iter   59   |   diff: 0.00184   |   V(s0) = 8.014   V(s1) = 11.154   V(s2) = 8.906\n",
      "\n",
      "iter   60   |   diff: 0.00166   |   V(s0) = 8.015   V(s1) = 11.155   V(s2) = 8.908\n",
      "\n",
      "iter   61   |   diff: 0.00149   |   V(s0) = 8.017   V(s1) = 11.157   V(s2) = 8.909\n",
      "\n",
      "iter   62   |   diff: 0.00134   |   V(s0) = 8.019   V(s1) = 11.159   V(s2) = 8.911\n",
      "\n",
      "iter   63   |   diff: 0.00121   |   V(s0) = 8.020   V(s1) = 11.160   V(s2) = 8.912\n",
      "\n",
      "iter   64   |   diff: 0.00109   |   V(s0) = 8.021   V(s1) = 11.161   V(s2) = 8.913\n",
      "\n",
      "iter   65   |   diff: 0.00098   |   V(s0) = 8.022   V(s1) = 11.162   V(s2) = 8.915\n",
      "\n",
      "Terminated\n"
     ]
    }
   ],
   "source": [
    "# parameters\n",
    "gamma = 0.9            # discount for MDP\n",
    "num_iter = 100         # maximum iterations, excluding initialization\n",
    "min_difference = 0.001 # stop VI if new values are this close to old values (or closer)\n",
    "\n",
    "# initialize V(s)\n",
    "state_values = {s : 0 for s in mdp.get_all_states()}\n",
    "\n",
    "\n",
    "for i in range(num_iter):\n",
    "    \n",
    "    # Compute new state values using the functions you defined above.\n",
    "    # It must be a dict {state : float V_new(state)}\n",
    "    new_state_values = {state: get_new_state_value(mdp, state_values, state, gamma)\n",
    "                        for state in mdp.get_all_states()}\n",
    "    \n",
    "    assert isinstance(new_state_values, dict)\n",
    "    \n",
    "    # Compute difference\n",
    "    diff = max(abs(new_state_values[s] - state_values[s]) for s in mdp.get_all_states())\n",
    "    print(\"iter %4i   |   diff: %6.5f   |   \"%(i, diff), end=\"\")\n",
    "    print('   '.join(\"V(%s) = %.3f\"%(s, v) for s,v in state_values.items()), end='\\n\\n')\n",
    "    state_values = new_state_values\n",
    "    \n",
    "    if diff < min_difference:\n",
    "        print(\"Terminated\"); break"
   ]
  },
  {
   "cell_type": "code",
   "execution_count": 9,
   "metadata": {},
   "outputs": [
    {
     "name": "stdout",
     "output_type": "stream",
     "text": [
      "Final state values: {'s0': 8.023123818663871, 's1': 11.163174814980803, 's2': 8.915559364985523}\n"
     ]
    }
   ],
   "source": [
    "print(\"Final state values:\", state_values)\n",
    "\n",
    "assert abs(state_values['s0'] - 8.032)  < 0.01\n",
    "assert abs(state_values['s1'] - 11.169) < 0.01\n",
    "assert abs(state_values['s2'] - 8.921)  < 0.01"
   ]
  },
  {
   "cell_type": "markdown",
   "metadata": {},
   "source": [
    "Now let's use those $V^{*}(s)$ to find optimal actions in each state\n",
    "\n",
    " $$\\pi^*(s) = argmax_a \\sum_{s'} P(s' | s,a) \\cdot [ r(s,a,s') + \\gamma V_{i}(s')] = argmax_a Q_i(s,a)$$\n",
    " \n",
    "The only difference vs V(s) is that here we take not max but argmax: find action such with maximum Q(s,a)."
   ]
  },
  {
   "cell_type": "code",
   "execution_count": 10,
   "metadata": {
    "collapsed": true
   },
   "outputs": [],
   "source": [
    "def get_optimal_action(mdp, state_values, state, gamma=0.9):\n",
    "    \"\"\" Finds optimal action using formula above. \"\"\"\n",
    "    if mdp.is_terminal(state): return None\n",
    "    \n",
    "    actions = [\n",
    "        np.sum(\n",
    "            proba*(mdp.get_reward(state, action, next_state) + gamma*state_values[next_state])\n",
    "            for next_state, proba in mdp.get_next_states(state, action).items()\n",
    "        )\n",
    "        for action in mdp.get_possible_actions(state)\n",
    "    ]\n",
    "    \n",
    "    return mdp.get_possible_actions(state)[np.argmax(actions)]"
   ]
  },
  {
   "cell_type": "code",
   "execution_count": 11,
   "metadata": {
    "collapsed": true
   },
   "outputs": [],
   "source": [
    "assert get_optimal_action(mdp, state_values, 's0', gamma) == 'a1'\n",
    "assert get_optimal_action(mdp, state_values, 's1', gamma) == 'a0'\n",
    "assert get_optimal_action(mdp, state_values, 's2', gamma) == 'a0'"
   ]
  },
  {
   "cell_type": "code",
   "execution_count": 12,
   "metadata": {},
   "outputs": [
    {
     "name": "stdout",
     "output_type": "stream",
     "text": [
      "average reward:  0.912\n"
     ]
    }
   ],
   "source": [
    "# Measure agent's average reward\n",
    "\n",
    "s = mdp.reset()\n",
    "rewards = []\n",
    "for _ in range(10000):\n",
    "    s, r, done, _ = mdp.step(get_optimal_action(mdp, state_values, s, gamma))\n",
    "    rewards.append(r)\n",
    "    \n",
    "print(\"average reward: \", np.mean(rewards))\n",
    "\n",
    "assert(0.85 < np.mean(rewards) < 1.0)"
   ]
  },
  {
   "cell_type": "markdown",
   "metadata": {},
   "source": [
    "### Frozen lake"
   ]
  },
  {
   "cell_type": "code",
   "execution_count": 116,
   "metadata": {},
   "outputs": [
    {
     "name": "stdout",
     "output_type": "stream",
     "text": [
      "*FFF\n",
      "FHFH\n",
      "FFFH\n",
      "HFFG\n",
      "\n"
     ]
    }
   ],
   "source": [
    "from mdp import FrozenLakeEnv\n",
    "mdp = FrozenLakeEnv(slip_chance=0)\n",
    "\n",
    "mdp.render()"
   ]
  },
  {
   "cell_type": "code",
   "execution_count": 139,
   "metadata": {
    "collapsed": true
   },
   "outputs": [],
   "source": [
    "def value_iteration(mdp, state_values=None, gamma=0.9, num_iter=1000, min_difference=1e-5, silent=False):\n",
    "    \"\"\" performs num_iter value iteration steps starting from state_values. Same as before but in a function \"\"\"\n",
    "    state_values = state_values or {s : 0 for s in mdp.get_all_states()}\n",
    "    for i in range(num_iter):\n",
    "\n",
    "        # Compute new state values using the functions you defined above. It must be a dict {state : new_V(state)}\n",
    "        new_state_values = {state: get_new_state_value(mdp, state_values, state, gamma)\n",
    "                            for state in mdp.get_all_states()}\n",
    "        \n",
    "        assert isinstance(new_state_values, dict)\n",
    "\n",
    "        # Compute difference\n",
    "        diff =  max(abs(new_state_values[s] - state_values[s]) for s in mdp.get_all_states())\n",
    "        if not silent:\n",
    "            print(\"iter %4i   |   diff: %6.5f   |   V(start): %.3f \"%\n",
    "                  (i, diff, new_state_values[mdp._initial_state]))\n",
    "        \n",
    "        state_values = new_state_values\n",
    "        if diff < min_difference:\n",
    "            break\n",
    "            \n",
    "    return state_values"
   ]
  },
  {
   "cell_type": "code",
   "execution_count": 118,
   "metadata": {},
   "outputs": [
    {
     "name": "stdout",
     "output_type": "stream",
     "text": [
      "iter    0   |   diff: 1.00000   |   V(start): 0.000 \n",
      "iter    1   |   diff: 0.90000   |   V(start): 0.000 \n",
      "iter    2   |   diff: 0.81000   |   V(start): 0.000 \n",
      "iter    3   |   diff: 0.72900   |   V(start): 0.000 \n",
      "iter    4   |   diff: 0.65610   |   V(start): 0.000 \n",
      "iter    5   |   diff: 0.59049   |   V(start): 0.590 \n",
      "iter    6   |   diff: 0.00000   |   V(start): 0.590 \n"
     ]
    }
   ],
   "source": [
    "state_values = value_iteration(mdp)"
   ]
  },
  {
   "cell_type": "code",
   "execution_count": 119,
   "metadata": {},
   "outputs": [
    {
     "name": "stdout",
     "output_type": "stream",
     "text": [
      "*FFF\n",
      "FHFH\n",
      "FFFH\n",
      "HFFG\n",
      "\n",
      "down\n",
      "\n",
      "SFFF\n",
      "*HFH\n",
      "FFFH\n",
      "HFFG\n",
      "\n",
      "down\n",
      "\n",
      "SFFF\n",
      "FHFH\n",
      "*FFH\n",
      "HFFG\n",
      "\n",
      "right\n",
      "\n",
      "SFFF\n",
      "FHFH\n",
      "F*FH\n",
      "HFFG\n",
      "\n",
      "down\n",
      "\n",
      "SFFF\n",
      "FHFH\n",
      "FFFH\n",
      "H*FG\n",
      "\n",
      "right\n",
      "\n",
      "SFFF\n",
      "FHFH\n",
      "FFFH\n",
      "HF*G\n",
      "\n",
      "right\n",
      "\n",
      "SFFF\n",
      "FHFH\n",
      "FFFH\n",
      "HFF*\n",
      "\n"
     ]
    }
   ],
   "source": [
    "s = mdp.reset()\n",
    "mdp.render()\n",
    "for t in range(100):\n",
    "    a = get_optimal_action(mdp, state_values, s, gamma)\n",
    "    print(a, end='\\n\\n')\n",
    "    s, r, done, _ = mdp.step(a)\n",
    "    mdp.render()\n",
    "    if done: break\n"
   ]
  },
  {
   "cell_type": "markdown",
   "metadata": {},
   "source": [
    "### Let's visualize!\n",
    "\n",
    "It's usually interesting to see what your algorithm actually learned under the hood. To do so, we'll plot state value functions and optimal actions at each VI step."
   ]
  },
  {
   "cell_type": "code",
   "execution_count": 120,
   "metadata": {
    "collapsed": true
   },
   "outputs": [],
   "source": [
    "import matplotlib.pyplot as plt\n",
    "%matplotlib inline\n",
    "\n",
    "def draw_policy(mdp, state_values):\n",
    "    size = mdp.n_states ** 0.5\n",
    "    plt.figure(figsize=(size, size))\n",
    "    h,w = mdp.desc.shape\n",
    "    states = sorted(mdp.get_all_states())\n",
    "    V = np.array([state_values[s] for s in states])\n",
    "    Pi = {s: get_optimal_action(mdp, state_values, s, gamma) for s in states}\n",
    "    plt.imshow(V.reshape(w,h), cmap='gray', interpolation='none', clim=(0,1))\n",
    "    ax = plt.gca()\n",
    "    ax.set_xticks(np.arange(h)-.5)\n",
    "    ax.set_yticks(np.arange(w)-.5)\n",
    "    ax.set_xticklabels([])\n",
    "    ax.set_yticklabels([])\n",
    "    Y, X = np.mgrid[0:4, 0:4]\n",
    "    a2uv = {'left': (-1, 0), 'down':(0, -1), 'right':(1,0), 'up':(-1, 0)}\n",
    "    for y in range(h):\n",
    "        for x in range(w):\n",
    "            plt.text(x, y, str(mdp.desc[y,x].item()),\n",
    "                     color='g', size=12,  verticalalignment='center',\n",
    "                     horizontalalignment='center', fontweight='bold')\n",
    "            a = Pi[y, x]\n",
    "            if a is None: continue\n",
    "            u, v = a2uv[a]\n",
    "            plt.arrow(x, y,u*.3, -v*.3, color='m', head_width=0.1, head_length=0.1) \n",
    "    plt.grid(color='b', lw=2, ls='-')\n",
    "    plt.show()\n",
    "\n"
   ]
  },
  {
   "cell_type": "code",
   "execution_count": 121,
   "metadata": {},
   "outputs": [
    {
     "name": "stdout",
     "output_type": "stream",
     "text": [
      "after iteration 0\n",
      "iter    0   |   diff: 1.00000   |   V(start): 0.000 \n"
     ]
    },
    {
     "data": {
      "image/png": "[encoded data removed]",
      "text/plain": [
       "<matplotlib.figure.Figure at 0x7ff40e8d5be0>"
      ]
     },
     "metadata": {},
     "output_type": "display_data"
    },
    {
     "name": "stdout",
     "output_type": "stream",
     "text": [
      "after iteration 1\n",
      "iter    0   |   diff: 0.90000   |   V(start): 0.000 \n"
     ]
    },
    {
     "data": {
      "image/png": "[encoded data removed]",
      "text/plain": [
       "<matplotlib.figure.Figure at 0x7ff40ede4160>"
      ]
     },
     "metadata": {},
     "output_type": "display_data"
    },
    {
     "name": "stdout",
     "output_type": "stream",
     "text": [
      "after iteration 2\n",
      "iter    0   |   diff: 0.81000   |   V(start): 0.000 \n"
     ]
    },
    {
     "data": {
      "image/png": "[encoded data removed]",
      "text/plain": [
       "<matplotlib.figure.Figure at 0x7ff40eacde80>"
      ]
     },
     "metadata": {},
     "output_type": "display_data"
    },
    {
     "name": "stdout",
     "output_type": "stream",
     "text": [
      "after iteration 3\n",
      "iter    0   |   diff: 0.72900   |   V(start): 0.000 \n"
     ]
    },
    {
     "data": {
      "image/png": "[encoded data removed]",
      "text/plain": [
       "<matplotlib.figure.Figure at 0x7ff40f011c88>"
      ]
     },
     "metadata": {},
     "output_type": "display_data"
    },
    {
     "name": "stdout",
     "output_type": "stream",
     "text": [
      "after iteration 4\n",
      "iter    0   |   diff: 0.65610   |   V(start): 0.000 \n"
     ]
    },
    {
     "data": {
      "image/png": "[encoded data removed]",
      "text/plain": [
       "<matplotlib.figure.Figure at 0x7ff40f0c94a8>"
      ]
     },
     "metadata": {},
     "output_type": "display_data"
    },
    {
     "name": "stdout",
     "output_type": "stream",
     "text": [
      "after iteration 5\n",
      "iter    0   |   diff: 0.59049   |   V(start): 0.590 \n"
     ]
    },
    {
     "data": {
      "image/png": "[encoded data removed]",
      "text/plain": [
       "<matplotlib.figure.Figure at 0x7ff40efe4128>"
      ]
     },
     "metadata": {},
     "output_type": "display_data"
    },
    {
     "name": "stdout",
     "output_type": "stream",
     "text": [
      "after iteration 6\n",
      "iter    0   |   diff: 0.00000   |   V(start): 0.590 \n"
     ]
    },
    {
     "data": {
      "image/png": "[encoded data removed]",
      "text/plain": [
       "<matplotlib.figure.Figure at 0x7ff40f2b3160>"
      ]
     },
     "metadata": {},
     "output_type": "display_data"
    },
    {
     "name": "stdout",
     "output_type": "stream",
     "text": [
      "after iteration 7\n",
      "iter    0   |   diff: 0.00000   |   V(start): 0.590 \n"
     ]
    },
    {
     "data": {
      "image/png": "[encoded data removed]",
      "text/plain": [
       "<matplotlib.figure.Figure at 0x7ff40ebb49e8>"
      ]
     },
     "metadata": {},
     "output_type": "display_data"
    },
    {
     "name": "stdout",
     "output_type": "stream",
     "text": [
      "after iteration 8\n",
      "iter    0   |   diff: 0.00000   |   V(start): 0.590 \n"
     ]
    },
    {
     "data": {
      "image/png": "[encoded data removed]",
      "text/plain": [
       "<matplotlib.figure.Figure at 0x7ff40edb07f0>"
      ]
     },
     "metadata": {},
     "output_type": "display_data"
    },
    {
     "name": "stdout",
     "output_type": "stream",
     "text": [
      "after iteration 9\n",
      "iter    0   |   diff: 0.00000   |   V(start): 0.590 \n"
     ]
    },
    {
     "data": {
      "image/png": "[encoded data removed]",
      "text/plain": [
       "<matplotlib.figure.Figure at 0x7ff40e8d5940>"
      ]
     },
     "metadata": {},
     "output_type": "display_data"
    }
   ],
   "source": [
    "state_values = {s : 0 for s in mdp.get_all_states()}\n",
    "\n",
    "for i in range(10):\n",
    "    print(\"after iteration %i\"%i)\n",
    "    state_values = value_iteration(mdp, state_values, num_iter=1)\n",
    "    draw_policy(mdp, state_values)\n",
    "# please ignore iter 0 at each step"
   ]
  },
  {
   "cell_type": "code",
   "execution_count": 122,
   "metadata": {},
   "outputs": [
    {
     "name": "stdout",
     "output_type": "stream",
     "text": [
      "after iteration 29\n",
      "iter    0   |   diff: 0.00000   |   V(start): 0.198 \n"
     ]
    },
    {
     "data": {
      "image/png": "[encoded data removed]",
      "text/plain": [
       "<matplotlib.figure.Figure at 0x7ff40ea90f60>"
      ]
     },
     "metadata": {},
     "output_type": "display_data"
    }
   ],
   "source": [
    "from IPython.display import clear_output\n",
    "from time import sleep\n",
    "mdp = FrozenLakeEnv(map_name='8x8',slip_chance=0.1)\n",
    "state_values = {s : 0 for s in mdp.get_all_states()}\n",
    "\n",
    "for i in range(30):\n",
    "    clear_output(True)\n",
    "    print(\"after iteration %i\"%i)\n",
    "    state_values = value_iteration(mdp, state_values, num_iter=1)\n",
    "    draw_policy(mdp, state_values)\n",
    "    sleep(0.5)\n",
    "# please ignore iter 0 at each step"
   ]
  },
  {
   "cell_type": "markdown",
   "metadata": {},
   "source": [
    "Massive tests"
   ]
  },
  {
   "cell_type": "code",
   "execution_count": 123,
   "metadata": {},
   "outputs": [
    {
     "name": "stdout",
     "output_type": "stream",
     "text": [
      "iter    0   |   diff: 1.00000   |   V(start): 0.000 \n",
      "iter    1   |   diff: 0.90000   |   V(start): 0.000 \n",
      "iter    2   |   diff: 0.81000   |   V(start): 0.000 \n",
      "iter    3   |   diff: 0.72900   |   V(start): 0.000 \n",
      "iter    4   |   diff: 0.65610   |   V(start): 0.000 \n",
      "iter    5   |   diff: 0.59049   |   V(start): 0.590 \n",
      "iter    6   |   diff: 0.00000   |   V(start): 0.590 \n",
      "average reward:  1.0\n",
      "Well done!\n"
     ]
    }
   ],
   "source": [
    "mdp = FrozenLakeEnv(slip_chance=0)\n",
    "state_values = value_iteration(mdp)\n",
    "\n",
    "total_rewards = []\n",
    "for game_i in range(1000):\n",
    "    s = mdp.reset()\n",
    "    rewards = []\n",
    "    for t in range(100):\n",
    "        s, r, done, _ = mdp.step(get_optimal_action(mdp, state_values, s, gamma))\n",
    "        rewards.append(r)\n",
    "        if done: break\n",
    "    total_rewards.append(np.sum(rewards))\n",
    "    \n",
    "print(\"average reward: \", np.mean(total_rewards))\n",
    "assert(1.0 <= np.mean(total_rewards) <= 1.0)\n",
    "print(\"Well done!\")"
   ]
  },
  {
   "cell_type": "code",
   "execution_count": 124,
   "metadata": {},
   "outputs": [
    {
     "name": "stdout",
     "output_type": "stream",
     "text": [
      "iter    0   |   diff: 0.90000   |   V(start): 0.000 \n",
      "iter    1   |   diff: 0.72900   |   V(start): 0.000 \n",
      "iter    2   |   diff: 0.62330   |   V(start): 0.000 \n",
      "iter    3   |   diff: 0.50487   |   V(start): 0.000 \n",
      "iter    4   |   diff: 0.40894   |   V(start): 0.000 \n",
      "iter    5   |   diff: 0.34868   |   V(start): 0.349 \n",
      "iter    6   |   diff: 0.06529   |   V(start): 0.410 \n",
      "iter    7   |   diff: 0.05832   |   V(start): 0.468 \n",
      "iter    8   |   diff: 0.01139   |   V(start): 0.480 \n",
      "iter    9   |   diff: 0.00764   |   V(start): 0.487 \n",
      "iter   10   |   diff: 0.00164   |   V(start): 0.489 \n",
      "iter   11   |   diff: 0.00094   |   V(start): 0.490 \n",
      "iter   12   |   diff: 0.00022   |   V(start): 0.490 \n",
      "iter   13   |   diff: 0.00011   |   V(start): 0.490 \n",
      "iter   14   |   diff: 0.00003   |   V(start): 0.490 \n",
      "iter   15   |   diff: 0.00001   |   V(start): 0.490 \n",
      "iter   16   |   diff: 0.00000   |   V(start): 0.490 \n",
      "average reward:  0.893\n",
      "Well done!\n"
     ]
    }
   ],
   "source": [
    "# Measure agent's average reward\n",
    "mdp = FrozenLakeEnv(slip_chance=0.1)\n",
    "state_values = value_iteration(mdp)\n",
    "\n",
    "total_rewards = []\n",
    "for game_i in range(1000):\n",
    "    s = mdp.reset()\n",
    "    rewards = []\n",
    "    for t in range(100):\n",
    "        s, r, done, _ = mdp.step(get_optimal_action(mdp, state_values, s, gamma))\n",
    "        rewards.append(r)\n",
    "        if done: break\n",
    "    total_rewards.append(np.sum(rewards))\n",
    "    \n",
    "print(\"average reward: \", np.mean(total_rewards))\n",
    "assert(0.8 <= np.mean(total_rewards) <= 0.95)\n",
    "print(\"Well done!\")"
   ]
  },
  {
   "cell_type": "code",
   "execution_count": 125,
   "metadata": {},
   "outputs": [
    {
     "name": "stdout",
     "output_type": "stream",
     "text": [
      "iter    0   |   diff: 0.75000   |   V(start): 0.000 \n",
      "iter    1   |   diff: 0.50625   |   V(start): 0.000 \n",
      "iter    2   |   diff: 0.39867   |   V(start): 0.000 \n",
      "iter    3   |   diff: 0.26910   |   V(start): 0.000 \n",
      "iter    4   |   diff: 0.18164   |   V(start): 0.000 \n",
      "iter    5   |   diff: 0.14013   |   V(start): 0.140 \n",
      "iter    6   |   diff: 0.07028   |   V(start): 0.199 \n",
      "iter    7   |   diff: 0.06030   |   V(start): 0.260 \n",
      "iter    8   |   diff: 0.02594   |   V(start): 0.285 \n",
      "iter    9   |   diff: 0.01918   |   V(start): 0.305 \n",
      "iter   10   |   diff: 0.00858   |   V(start): 0.313 \n",
      "iter   11   |   diff: 0.00560   |   V(start): 0.319 \n",
      "iter   12   |   diff: 0.00260   |   V(start): 0.321 \n",
      "iter   13   |   diff: 0.00159   |   V(start): 0.323 \n",
      "iter   14   |   diff: 0.00076   |   V(start): 0.324 \n",
      "iter   15   |   diff: 0.00045   |   V(start): 0.324 \n",
      "iter   16   |   diff: 0.00022   |   V(start): 0.324 \n",
      "iter   17   |   diff: 0.00012   |   V(start): 0.325 \n",
      "iter   18   |   diff: 0.00006   |   V(start): 0.325 \n",
      "iter   19   |   diff: 0.00003   |   V(start): 0.325 \n",
      "iter   20   |   diff: 0.00002   |   V(start): 0.325 \n",
      "iter   21   |   diff: 0.00001   |   V(start): 0.325 \n",
      "average reward:  0.657\n",
      "Well done!\n"
     ]
    }
   ],
   "source": [
    "# Measure agent's average reward\n",
    "mdp = FrozenLakeEnv(slip_chance=0.25)\n",
    "state_values = value_iteration(mdp)\n",
    "\n",
    "total_rewards = []\n",
    "for game_i in range(1000):\n",
    "    s = mdp.reset()\n",
    "    rewards = []\n",
    "    for t in range(100):\n",
    "        s, r, done, _ = mdp.step(get_optimal_action(mdp, state_values, s, gamma))\n",
    "        rewards.append(r)\n",
    "        if done: break\n",
    "    total_rewards.append(np.sum(rewards))\n",
    "    \n",
    "print(\"average reward: \", np.mean(total_rewards))\n",
    "assert(0.6 <= np.mean(total_rewards) <= 0.7)\n",
    "print(\"Well done!\")"
   ]
  },
  {
   "cell_type": "code",
   "execution_count": 126,
   "metadata": {},
   "outputs": [
    {
     "name": "stdout",
     "output_type": "stream",
     "text": [
      "iter    0   |   diff: 0.80000   |   V(start): 0.000 \n",
      "iter    1   |   diff: 0.57600   |   V(start): 0.000 \n",
      "iter    2   |   diff: 0.41472   |   V(start): 0.000 \n",
      "iter    3   |   diff: 0.29860   |   V(start): 0.000 \n",
      "iter    4   |   diff: 0.24186   |   V(start): 0.000 \n",
      "iter    5   |   diff: 0.19349   |   V(start): 0.000 \n",
      "iter    6   |   diff: 0.15325   |   V(start): 0.000 \n",
      "iter    7   |   diff: 0.12288   |   V(start): 0.000 \n",
      "iter    8   |   diff: 0.09930   |   V(start): 0.000 \n",
      "iter    9   |   diff: 0.08037   |   V(start): 0.000 \n",
      "iter   10   |   diff: 0.06426   |   V(start): 0.000 \n",
      "iter   11   |   diff: 0.05129   |   V(start): 0.000 \n",
      "iter   12   |   diff: 0.04330   |   V(start): 0.000 \n",
      "iter   13   |   diff: 0.03802   |   V(start): 0.033 \n",
      "iter   14   |   diff: 0.03332   |   V(start): 0.058 \n",
      "iter   15   |   diff: 0.02910   |   V(start): 0.087 \n",
      "iter   16   |   diff: 0.01855   |   V(start): 0.106 \n",
      "iter   17   |   diff: 0.01403   |   V(start): 0.120 \n",
      "iter   18   |   diff: 0.00810   |   V(start): 0.128 \n",
      "iter   19   |   diff: 0.00555   |   V(start): 0.133 \n",
      "iter   20   |   diff: 0.00321   |   V(start): 0.137 \n",
      "iter   21   |   diff: 0.00247   |   V(start): 0.138 \n",
      "iter   22   |   diff: 0.00147   |   V(start): 0.139 \n",
      "iter   23   |   diff: 0.00104   |   V(start): 0.140 \n",
      "iter   24   |   diff: 0.00058   |   V(start): 0.140 \n",
      "iter   25   |   diff: 0.00036   |   V(start): 0.141 \n",
      "iter   26   |   diff: 0.00024   |   V(start): 0.141 \n",
      "iter   27   |   diff: 0.00018   |   V(start): 0.141 \n",
      "iter   28   |   diff: 0.00012   |   V(start): 0.141 \n",
      "iter   29   |   diff: 0.00007   |   V(start): 0.141 \n",
      "iter   30   |   diff: 0.00004   |   V(start): 0.141 \n",
      "iter   31   |   diff: 0.00003   |   V(start): 0.141 \n",
      "iter   32   |   diff: 0.00001   |   V(start): 0.141 \n",
      "iter   33   |   diff: 0.00001   |   V(start): 0.141 \n",
      "average reward:  0.758\n",
      "Well done!\n"
     ]
    }
   ],
   "source": [
    "# Measure agent's average reward\n",
    "mdp = FrozenLakeEnv(slip_chance=0.2, map_name='8x8')\n",
    "state_values = value_iteration(mdp)\n",
    "\n",
    "total_rewards = []\n",
    "for game_i in range(1000):\n",
    "    s = mdp.reset()\n",
    "    rewards = []\n",
    "    for t in range(100):\n",
    "        s, r, done, _ = mdp.step(get_optimal_action(mdp, state_values, s, gamma))\n",
    "        rewards.append(r)\n",
    "        if done: break\n",
    "    total_rewards.append(np.sum(rewards))\n",
    "    \n",
    "print(\"average reward: \", np.mean(total_rewards))\n",
    "assert(0.6 <= np.mean(total_rewards) <= 0.8)\n",
    "print(\"Well done!\")"
   ]
  },
  {
   "cell_type": "markdown",
   "metadata": {},
   "source": [
    "## Bonus area"
   ]
  },
  {
   "cell_type": "markdown",
   "metadata": {},
   "source": [
    "### Bonus 1 - find an MDP for which value iteration takes long to converge  (2+ pts)\n",
    "\n",
    "When we ran value iteration on the small frozen lake problem, the last iteration where an action changed was iteration 6--i.e., value iteration computed the optimal policy at iteration 6. Are there any guarantees regarding how many iterations it'll take value iteration to compute the optimal policy? There are no such guarantees without additional assumptions--we can construct the MDP in such a way that the greedy policy will change after arbitrarily many iterations.\n",
    "\n",
    "Your task: define an MDP with at most 3 states and 2 actions, such that when you run value iteration, the optimal action changes at iteration >= 50. Use discount=0.95. (However, note that the discount doesn't matter here--you can construct an appropriate MDP with any discount.)\n",
    "\n",
    "Note: value function must change at least once after iteration >=50, not necessarily change on every iteration till >=50."
   ]
  },
  {
   "cell_type": "markdown",
   "metadata": {},
   "source": [
    "Сделаем в MDP вершину s2, из которой можно переходить в себя с наградой 2, а переходы в s2 из других вершин обладают большой отрицательной наградой. Тогда VI придется потратить время, чтобы понять, что нужно один раз вытерперь отрицательную награду, чтобы потом набрать положительной, проходя по циклу из s2 в s2."
   ]
  },
  {
   "cell_type": "code",
   "execution_count": 24,
   "metadata": {
    "collapsed": true
   },
   "outputs": [],
   "source": [
    "def get_mdp(reward):\n",
    "    transition_probs = {\n",
    "        's0': {\n",
    "            'a0': {'s0': 1},\n",
    "            'a1': {'s2': 1},\n",
    "        },\n",
    "        's1': {\n",
    "            'a0': {'s1': 1},\n",
    "            'a1': {'s2': 1},\n",
    "        },\n",
    "        's2': {\n",
    "            'a0': {'s1': 1},\n",
    "            'a1': {'s2': 1},\n",
    "        },\n",
    "    }\n",
    "\n",
    "    rewards = {\n",
    "        's0': {\n",
    "            'a0': {'s0': -1},\n",
    "            'a1': {'s2': reward},\n",
    "        },\n",
    "        's1': {\n",
    "            'a0': {'s1': 1},\n",
    "            'a1': {'s2': reward},\n",
    "        },\n",
    "        's2': {\n",
    "            'a0': {'s1': -1},\n",
    "            'a1': {'s2': 2},\n",
    "        },\n",
    "    }\n",
    "    return MDP(transition_probs, rewards, initial_state='s0')"
   ]
  },
  {
   "cell_type": "code",
   "execution_count": 25,
   "metadata": {
    "collapsed": true
   },
   "outputs": [],
   "source": [
    "mdp = get_mdp(-29.45)\n",
    "gamma = 0.95"
   ]
  },
  {
   "cell_type": "code",
   "execution_count": 26,
   "metadata": {},
   "outputs": [
    {
     "name": "stdout",
     "output_type": "stream",
     "text": [
      "after iteration 0\n",
      "iter    0   |   diff: 2.00000   |   V(start): -1.000 \n",
      "after iteration 1\n",
      "iter    0   |   diff: 1.80000   |   V(start): -1.900 \n",
      "after iteration 2\n",
      "iter    0   |   diff: 1.62000   |   V(start): -2.710 \n",
      "after iteration 3\n",
      "iter    0   |   diff: 1.45800   |   V(start): -3.439 \n",
      "after iteration 4\n",
      "iter    0   |   diff: 1.31220   |   V(start): -4.095 \n",
      "after iteration 5\n",
      "iter    0   |   diff: 1.18098   |   V(start): -4.686 \n",
      "after iteration 6\n",
      "iter    0   |   diff: 1.06288   |   V(start): -5.217 \n",
      "after iteration 7\n",
      "iter    0   |   diff: 0.95659   |   V(start): -5.695 \n",
      "after iteration 8\n",
      "iter    0   |   diff: 0.86093   |   V(start): -6.126 \n",
      "after iteration 9\n",
      "iter    0   |   diff: 0.77484   |   V(start): -6.513 \n",
      "after iteration 10\n",
      "iter    0   |   diff: 0.69736   |   V(start): -6.862 \n",
      "after iteration 11\n",
      "iter    0   |   diff: 0.62762   |   V(start): -7.176 \n",
      "after iteration 12\n",
      "iter    0   |   diff: 0.56486   |   V(start): -7.458 \n",
      "after iteration 13\n",
      "iter    0   |   diff: 0.50837   |   V(start): -7.712 \n",
      "after iteration 14\n",
      "iter    0   |   diff: 0.45754   |   V(start): -7.941 \n",
      "after iteration 15\n",
      "iter    0   |   diff: 0.41178   |   V(start): -8.147 \n",
      "after iteration 16\n",
      "iter    0   |   diff: 0.37060   |   V(start): -8.332 \n",
      "after iteration 17\n",
      "iter    0   |   diff: 0.33354   |   V(start): -8.499 \n",
      "after iteration 18\n",
      "iter    0   |   diff: 0.30019   |   V(start): -8.649 \n",
      "after iteration 19\n",
      "iter    0   |   diff: 0.27017   |   V(start): -8.784 \n",
      "after iteration 20\n",
      "iter    0   |   diff: 0.24315   |   V(start): -8.906 \n",
      "after iteration 21\n",
      "iter    0   |   diff: 0.21884   |   V(start): -9.015 \n",
      "after iteration 22\n",
      "iter    0   |   diff: 0.19695   |   V(start): -9.114 \n",
      "after iteration 23\n",
      "iter    0   |   diff: 0.17726   |   V(start): -9.202 \n",
      "after iteration 24\n",
      "iter    0   |   diff: 0.15953   |   V(start): -9.282 \n",
      "after iteration 25\n",
      "iter    0   |   diff: 0.14358   |   V(start): -9.354 \n",
      "after iteration 26\n",
      "iter    0   |   diff: 0.12922   |   V(start): -9.419 \n",
      "after iteration 27\n",
      "iter    0   |   diff: 0.11630   |   V(start): -9.477 \n",
      "after iteration 28\n",
      "iter    0   |   diff: 0.10467   |   V(start): -9.529 \n",
      "after iteration 29\n",
      "iter    0   |   diff: 0.09420   |   V(start): -9.576 \n",
      "after iteration 30\n",
      "iter    0   |   diff: 0.08478   |   V(start): -9.618 \n",
      "after iteration 31\n",
      "iter    0   |   diff: 0.07630   |   V(start): -9.657 \n",
      "after iteration 32\n",
      "iter    0   |   diff: 0.06867   |   V(start): -9.691 \n",
      "after iteration 33\n",
      "iter    0   |   diff: 0.06181   |   V(start): -9.722 \n",
      "after iteration 34\n",
      "iter    0   |   diff: 0.05563   |   V(start): -9.750 \n",
      "after iteration 35\n",
      "iter    0   |   diff: 0.05006   |   V(start): -9.775 \n",
      "after iteration 36\n",
      "iter    0   |   diff: 0.04506   |   V(start): -9.797 \n",
      "after iteration 37\n",
      "iter    0   |   diff: 0.04055   |   V(start): -9.818 \n",
      "after iteration 38\n",
      "iter    0   |   diff: 0.03650   |   V(start): -9.836 \n",
      "after iteration 39\n",
      "iter    0   |   diff: 0.03285   |   V(start): -9.852 \n",
      "after iteration 40\n",
      "iter    0   |   diff: 0.02956   |   V(start): -9.867 \n",
      "after iteration 41\n",
      "iter    0   |   diff: 0.02661   |   V(start): -9.880 \n",
      "after iteration 42\n",
      "iter    0   |   diff: 0.02395   |   V(start): -9.892 \n",
      "after iteration 43\n",
      "iter    0   |   diff: 0.02155   |   V(start): -9.903 \n",
      "after iteration 44\n",
      "iter    0   |   diff: 0.01940   |   V(start): -9.913 \n",
      "after iteration 45\n",
      "iter    0   |   diff: 0.01746   |   V(start): -9.921 \n",
      "after iteration 46\n",
      "iter    0   |   diff: 0.01571   |   V(start): -9.929 \n",
      "after iteration 47\n",
      "iter    0   |   diff: 0.01414   |   V(start): -9.936 \n",
      "after iteration 48\n",
      "iter    0   |   diff: 0.01273   |   V(start): -9.943 \n",
      "after iteration 49\n",
      "iter    0   |   diff: 0.01145   |   V(start): -9.948 \n",
      "after iteration 50\n",
      "iter    0   |   diff: 0.01031   |   V(start): -9.954 \n",
      "after iteration 51\n",
      "iter    0   |   diff: 0.00928   |   V(start): -9.958 \n",
      "after iteration 52\n",
      "iter    0   |   diff: 0.00835   |   V(start): -9.962 \n",
      "after iteration 53\n",
      "iter    0   |   diff: 0.00751   |   V(start): -9.966 \n",
      "after iteration 54\n",
      "iter    0   |   diff: 0.00676   |   V(start): -9.970 \n",
      "after iteration 55\n",
      "iter    0   |   diff: 0.00609   |   V(start): -9.973 \n",
      "after iteration 56\n",
      "iter    0   |   diff: 0.00548   |   V(start): -9.975 \n",
      "after iteration 57\n",
      "iter    0   |   diff: 0.00493   |   V(start): -9.978 \n",
      "after iteration 58\n",
      "iter    0   |   diff: 0.00444   |   V(start): -9.980 \n",
      "after iteration 59\n",
      "iter    0   |   diff: 0.00399   |   V(start): -9.982 \n",
      "after iteration 60\n",
      "iter    0   |   diff: 0.00359   |   V(start): -9.984 \n",
      "N actions changed = 1 \n",
      "\n",
      "Well done!\n"
     ]
    }
   ],
   "source": [
    "state_values = {s : 0 for s in mdp.get_all_states()}\n",
    "policy = [get_optimal_action(mdp, state_values, state, gamma) \n",
    "          for state in sorted(mdp.get_all_states())]\n",
    "\n",
    "for i in range(100):\n",
    "    print(\"after iteration %i\"%i)\n",
    "    state_values = value_iteration(mdp, state_values, num_iter=1)\n",
    "    \n",
    "    new_policy = [get_optimal_action(mdp, state_values, state, gamma) \n",
    "                  for state in sorted(mdp.get_all_states())]\n",
    "    \n",
    "    n_changes = (np.array(policy) != np.array(new_policy)).sum()\n",
    "    if n_changes:\n",
    "        print(\"N actions changed = %i \\n\" % n_changes)\n",
    "    policy = new_policy\n",
    "    if i >= 50 and n_changes != 0:\n",
    "        print('Well done!')\n",
    "        break\n",
    "else:\n",
    "    print(':-(')\n",
    "# please ignore iter 0 at each step"
   ]
  },
  {
   "cell_type": "code",
   "execution_count": 27,
   "metadata": {
    "collapsed": true
   },
   "outputs": [],
   "source": [
    "mdp = get_mdp(-29.499999999)"
   ]
  },
  {
   "cell_type": "code",
   "execution_count": 28,
   "metadata": {},
   "outputs": [
    {
     "name": "stdout",
     "output_type": "stream",
     "text": [
      "after iteration 0\n",
      "iter    0   |   diff: 2.00000   |   V(start): -1.000 \n",
      "after iteration 1\n",
      "iter    0   |   diff: 1.80000   |   V(start): -1.900 \n",
      "after iteration 2\n",
      "iter    0   |   diff: 1.62000   |   V(start): -2.710 \n",
      "after iteration 3\n",
      "iter    0   |   diff: 1.45800   |   V(start): -3.439 \n",
      "after iteration 4\n",
      "iter    0   |   diff: 1.31220   |   V(start): -4.095 \n",
      "after iteration 5\n",
      "iter    0   |   diff: 1.18098   |   V(start): -4.686 \n",
      "after iteration 6\n",
      "iter    0   |   diff: 1.06288   |   V(start): -5.217 \n",
      "after iteration 7\n",
      "iter    0   |   diff: 0.95659   |   V(start): -5.695 \n",
      "after iteration 8\n",
      "iter    0   |   diff: 0.86093   |   V(start): -6.126 \n",
      "after iteration 9\n",
      "iter    0   |   diff: 0.77484   |   V(start): -6.513 \n",
      "after iteration 10\n",
      "iter    0   |   diff: 0.69736   |   V(start): -6.862 \n",
      "after iteration 11\n",
      "iter    0   |   diff: 0.62762   |   V(start): -7.176 \n",
      "after iteration 12\n",
      "iter    0   |   diff: 0.56486   |   V(start): -7.458 \n",
      "after iteration 13\n",
      "iter    0   |   diff: 0.50837   |   V(start): -7.712 \n",
      "after iteration 14\n",
      "iter    0   |   diff: 0.45754   |   V(start): -7.941 \n",
      "after iteration 15\n",
      "iter    0   |   diff: 0.41178   |   V(start): -8.147 \n",
      "after iteration 16\n",
      "iter    0   |   diff: 0.37060   |   V(start): -8.332 \n",
      "after iteration 17\n",
      "iter    0   |   diff: 0.33354   |   V(start): -8.499 \n",
      "after iteration 18\n",
      "iter    0   |   diff: 0.30019   |   V(start): -8.649 \n",
      "after iteration 19\n",
      "iter    0   |   diff: 0.27017   |   V(start): -8.784 \n",
      "after iteration 20\n",
      "iter    0   |   diff: 0.24315   |   V(start): -8.906 \n",
      "after iteration 21\n",
      "iter    0   |   diff: 0.21884   |   V(start): -9.015 \n",
      "after iteration 22\n",
      "iter    0   |   diff: 0.19695   |   V(start): -9.114 \n",
      "after iteration 23\n",
      "iter    0   |   diff: 0.17726   |   V(start): -9.202 \n",
      "after iteration 24\n",
      "iter    0   |   diff: 0.15953   |   V(start): -9.282 \n",
      "after iteration 25\n",
      "iter    0   |   diff: 0.14358   |   V(start): -9.354 \n",
      "after iteration 26\n",
      "iter    0   |   diff: 0.12922   |   V(start): -9.419 \n",
      "after iteration 27\n",
      "iter    0   |   diff: 0.11630   |   V(start): -9.477 \n",
      "after iteration 28\n",
      "iter    0   |   diff: 0.10467   |   V(start): -9.529 \n",
      "after iteration 29\n",
      "iter    0   |   diff: 0.09420   |   V(start): -9.576 \n",
      "after iteration 30\n",
      "iter    0   |   diff: 0.08478   |   V(start): -9.618 \n",
      "after iteration 31\n",
      "iter    0   |   diff: 0.07630   |   V(start): -9.657 \n",
      "after iteration 32\n",
      "iter    0   |   diff: 0.06867   |   V(start): -9.691 \n",
      "after iteration 33\n",
      "iter    0   |   diff: 0.06181   |   V(start): -9.722 \n",
      "after iteration 34\n",
      "iter    0   |   diff: 0.05563   |   V(start): -9.750 \n",
      "after iteration 35\n",
      "iter    0   |   diff: 0.05006   |   V(start): -9.775 \n",
      "after iteration 36\n",
      "iter    0   |   diff: 0.04506   |   V(start): -9.797 \n",
      "after iteration 37\n",
      "iter    0   |   diff: 0.04055   |   V(start): -9.818 \n",
      "after iteration 38\n",
      "iter    0   |   diff: 0.03650   |   V(start): -9.836 \n",
      "after iteration 39\n",
      "iter    0   |   diff: 0.03285   |   V(start): -9.852 \n",
      "after iteration 40\n",
      "iter    0   |   diff: 0.02956   |   V(start): -9.867 \n",
      "after iteration 41\n",
      "iter    0   |   diff: 0.02661   |   V(start): -9.880 \n",
      "after iteration 42\n",
      "iter    0   |   diff: 0.02395   |   V(start): -9.892 \n",
      "after iteration 43\n",
      "iter    0   |   diff: 0.02155   |   V(start): -9.903 \n",
      "after iteration 44\n",
      "iter    0   |   diff: 0.01940   |   V(start): -9.913 \n",
      "after iteration 45\n",
      "iter    0   |   diff: 0.01746   |   V(start): -9.921 \n",
      "after iteration 46\n",
      "iter    0   |   diff: 0.01571   |   V(start): -9.929 \n",
      "after iteration 47\n",
      "iter    0   |   diff: 0.01414   |   V(start): -9.936 \n",
      "after iteration 48\n",
      "iter    0   |   diff: 0.01273   |   V(start): -9.943 \n",
      "after iteration 49\n",
      "iter    0   |   diff: 0.01145   |   V(start): -9.948 \n",
      "after iteration 50\n",
      "iter    0   |   diff: 0.01031   |   V(start): -9.954 \n",
      "after iteration 51\n",
      "iter    0   |   diff: 0.00928   |   V(start): -9.958 \n",
      "after iteration 52\n",
      "iter    0   |   diff: 0.00835   |   V(start): -9.962 \n",
      "after iteration 53\n",
      "iter    0   |   diff: 0.00751   |   V(start): -9.966 \n",
      "after iteration 54\n",
      "iter    0   |   diff: 0.00676   |   V(start): -9.970 \n",
      "after iteration 55\n",
      "iter    0   |   diff: 0.00609   |   V(start): -9.973 \n",
      "after iteration 56\n",
      "iter    0   |   diff: 0.00548   |   V(start): -9.975 \n",
      "after iteration 57\n",
      "iter    0   |   diff: 0.00493   |   V(start): -9.978 \n",
      "after iteration 58\n",
      "iter    0   |   diff: 0.00444   |   V(start): -9.980 \n",
      "after iteration 59\n",
      "iter    0   |   diff: 0.00399   |   V(start): -9.982 \n",
      "after iteration 60\n",
      "iter    0   |   diff: 0.00359   |   V(start): -9.984 \n",
      "after iteration 61\n",
      "iter    0   |   diff: 0.00323   |   V(start): -9.985 \n",
      "after iteration 62\n",
      "iter    0   |   diff: 0.00291   |   V(start): -9.987 \n",
      "after iteration 63\n",
      "iter    0   |   diff: 0.00262   |   V(start): -9.988 \n",
      "after iteration 64\n",
      "iter    0   |   diff: 0.00236   |   V(start): -9.989 \n",
      "after iteration 65\n",
      "iter    0   |   diff: 0.00212   |   V(start): -9.990 \n",
      "after iteration 66\n",
      "iter    0   |   diff: 0.00191   |   V(start): -9.991 \n",
      "after iteration 67\n",
      "iter    0   |   diff: 0.00172   |   V(start): -9.992 \n",
      "after iteration 68\n",
      "iter    0   |   diff: 0.00155   |   V(start): -9.993 \n",
      "after iteration 69\n",
      "iter    0   |   diff: 0.00139   |   V(start): -9.994 \n",
      "after iteration 70\n",
      "iter    0   |   diff: 0.00125   |   V(start): -9.994 \n",
      "after iteration 71\n",
      "iter    0   |   diff: 0.00113   |   V(start): -9.995 \n",
      "after iteration 72\n",
      "iter    0   |   diff: 0.00102   |   V(start): -9.995 \n",
      "after iteration 73\n",
      "iter    0   |   diff: 0.00091   |   V(start): -9.996 \n",
      "after iteration 74\n",
      "iter    0   |   diff: 0.00082   |   V(start): -9.996 \n",
      "after iteration 75\n",
      "iter    0   |   diff: 0.00074   |   V(start): -9.997 \n",
      "after iteration 76\n",
      "iter    0   |   diff: 0.00067   |   V(start): -9.997 \n",
      "after iteration 77\n",
      "iter    0   |   diff: 0.00060   |   V(start): -9.997 \n",
      "after iteration 78\n",
      "iter    0   |   diff: 0.00054   |   V(start): -9.998 \n",
      "after iteration 79\n",
      "iter    0   |   diff: 0.00049   |   V(start): -9.998 \n",
      "after iteration 80\n",
      "iter    0   |   diff: 0.00044   |   V(start): -9.998 \n",
      "after iteration 81\n",
      "iter    0   |   diff: 0.00039   |   V(start): -9.998 \n",
      "after iteration 82\n",
      "iter    0   |   diff: 0.00035   |   V(start): -9.998 \n",
      "after iteration 83\n",
      "iter    0   |   diff: 0.00032   |   V(start): -9.999 \n",
      "after iteration 84\n",
      "iter    0   |   diff: 0.00029   |   V(start): -9.999 \n",
      "after iteration 85\n",
      "iter    0   |   diff: 0.00026   |   V(start): -9.999 \n",
      "after iteration 86\n",
      "iter    0   |   diff: 0.00023   |   V(start): -9.999 \n",
      "after iteration 87\n",
      "iter    0   |   diff: 0.00021   |   V(start): -9.999 \n",
      "after iteration 88\n",
      "iter    0   |   diff: 0.00019   |   V(start): -9.999 \n",
      "after iteration 89\n",
      "iter    0   |   diff: 0.00017   |   V(start): -9.999 \n",
      "after iteration 90\n",
      "iter    0   |   diff: 0.00015   |   V(start): -9.999 \n",
      "after iteration 91\n",
      "iter    0   |   diff: 0.00014   |   V(start): -9.999 \n",
      "after iteration 92\n",
      "iter    0   |   diff: 0.00012   |   V(start): -9.999 \n",
      "after iteration 93\n",
      "iter    0   |   diff: 0.00011   |   V(start): -10.000 \n",
      "after iteration 94\n",
      "iter    0   |   diff: 0.00010   |   V(start): -10.000 \n",
      "after iteration 95\n",
      "iter    0   |   diff: 0.00009   |   V(start): -10.000 \n",
      "after iteration 96\n",
      "iter    0   |   diff: 0.00008   |   V(start): -10.000 \n",
      "after iteration 97\n",
      "iter    0   |   diff: 0.00007   |   V(start): -10.000 \n",
      "after iteration 98\n",
      "iter    0   |   diff: 0.00007   |   V(start): -10.000 \n",
      "after iteration 99\n",
      "iter    0   |   diff: 0.00006   |   V(start): -10.000 \n",
      "after iteration 100\n",
      "iter    0   |   diff: 0.00005   |   V(start): -10.000 \n",
      "after iteration 101\n",
      "iter    0   |   diff: 0.00005   |   V(start): -10.000 \n",
      "after iteration 102\n",
      "iter    0   |   diff: 0.00004   |   V(start): -10.000 \n",
      "after iteration 103\n",
      "iter    0   |   diff: 0.00004   |   V(start): -10.000 \n",
      "after iteration 104\n",
      "iter    0   |   diff: 0.00003   |   V(start): -10.000 \n",
      "after iteration 105\n",
      "iter    0   |   diff: 0.00003   |   V(start): -10.000 \n",
      "after iteration 106\n",
      "iter    0   |   diff: 0.00003   |   V(start): -10.000 \n",
      "after iteration 107\n",
      "iter    0   |   diff: 0.00003   |   V(start): -10.000 \n",
      "after iteration 108\n",
      "iter    0   |   diff: 0.00002   |   V(start): -10.000 \n",
      "after iteration 109\n",
      "iter    0   |   diff: 0.00002   |   V(start): -10.000 \n",
      "after iteration 110\n",
      "iter    0   |   diff: 0.00002   |   V(start): -10.000 \n",
      "after iteration 111\n",
      "iter    0   |   diff: 0.00002   |   V(start): -10.000 \n",
      "after iteration 112\n",
      "iter    0   |   diff: 0.00002   |   V(start): -10.000 \n",
      "after iteration 113\n",
      "iter    0   |   diff: 0.00001   |   V(start): -10.000 \n",
      "after iteration 114\n",
      "iter    0   |   diff: 0.00001   |   V(start): -10.000 \n",
      "after iteration 115\n",
      "iter    0   |   diff: 0.00001   |   V(start): -10.000 \n",
      "after iteration 116\n",
      "iter    0   |   diff: 0.00001   |   V(start): -10.000 \n",
      "after iteration 117\n",
      "iter    0   |   diff: 0.00001   |   V(start): -10.000 \n",
      "after iteration 118\n",
      "iter    0   |   diff: 0.00001   |   V(start): -10.000 \n",
      "after iteration 119\n",
      "iter    0   |   diff: 0.00001   |   V(start): -10.000 \n",
      "after iteration 120\n",
      "iter    0   |   diff: 0.00001   |   V(start): -10.000 \n",
      "after iteration 121\n",
      "iter    0   |   diff: 0.00001   |   V(start): -10.000 \n",
      "after iteration 122\n",
      "iter    0   |   diff: 0.00001   |   V(start): -10.000 \n",
      "after iteration 123\n",
      "iter    0   |   diff: 0.00000   |   V(start): -10.000 \n",
      "after iteration 124\n",
      "iter    0   |   diff: 0.00000   |   V(start): -10.000 \n",
      "after iteration 125\n",
      "iter    0   |   diff: 0.00000   |   V(start): -10.000 \n",
      "after iteration 126\n",
      "iter    0   |   diff: 0.00000   |   V(start): -10.000 \n",
      "after iteration 127\n",
      "iter    0   |   diff: 0.00000   |   V(start): -10.000 \n",
      "after iteration 128\n",
      "iter    0   |   diff: 0.00000   |   V(start): -10.000 \n",
      "after iteration 129\n",
      "iter    0   |   diff: 0.00000   |   V(start): -10.000 \n",
      "after iteration 130\n",
      "iter    0   |   diff: 0.00000   |   V(start): -10.000 \n",
      "after iteration 131\n",
      "iter    0   |   diff: 0.00000   |   V(start): -10.000 \n",
      "after iteration 132\n",
      "iter    0   |   diff: 0.00000   |   V(start): -10.000 \n",
      "after iteration 133\n",
      "iter    0   |   diff: 0.00000   |   V(start): -10.000 \n",
      "after iteration 134\n",
      "iter    0   |   diff: 0.00000   |   V(start): -10.000 \n",
      "after iteration 135\n",
      "iter    0   |   diff: 0.00000   |   V(start): -10.000 \n",
      "after iteration 136\n",
      "iter    0   |   diff: 0.00000   |   V(start): -10.000 \n",
      "after iteration 137\n",
      "iter    0   |   diff: 0.00000   |   V(start): -10.000 \n",
      "after iteration 138\n",
      "iter    0   |   diff: 0.00000   |   V(start): -10.000 \n",
      "after iteration 139\n",
      "iter    0   |   diff: 0.00000   |   V(start): -10.000 \n",
      "after iteration 140\n",
      "iter    0   |   diff: 0.00000   |   V(start): -10.000 \n",
      "after iteration 141\n",
      "iter    0   |   diff: 0.00000   |   V(start): -10.000 \n",
      "after iteration 142\n",
      "iter    0   |   diff: 0.00000   |   V(start): -10.000 \n",
      "after iteration 143\n",
      "iter    0   |   diff: 0.00000   |   V(start): -10.000 \n",
      "after iteration 144\n",
      "iter    0   |   diff: 0.00000   |   V(start): -10.000 \n",
      "after iteration 145\n",
      "iter    0   |   diff: 0.00000   |   V(start): -10.000 \n",
      "after iteration 146\n",
      "iter    0   |   diff: 0.00000   |   V(start): -10.000 \n",
      "after iteration 147\n",
      "iter    0   |   diff: 0.00000   |   V(start): -10.000 \n",
      "after iteration 148\n",
      "iter    0   |   diff: 0.00000   |   V(start): -10.000 \n",
      "after iteration 149\n",
      "iter    0   |   diff: 0.00000   |   V(start): -10.000 \n",
      "after iteration 150\n",
      "iter    0   |   diff: 0.00000   |   V(start): -10.000 \n",
      "after iteration 151\n",
      "iter    0   |   diff: 0.00000   |   V(start): -10.000 \n",
      "after iteration 152\n",
      "iter    0   |   diff: 0.00000   |   V(start): -10.000 \n",
      "after iteration 153\n",
      "iter    0   |   diff: 0.00000   |   V(start): -10.000 \n",
      "after iteration 154\n",
      "iter    0   |   diff: 0.00000   |   V(start): -10.000 \n",
      "after iteration 155\n",
      "iter    0   |   diff: 0.00000   |   V(start): -10.000 \n",
      "after iteration 156\n",
      "iter    0   |   diff: 0.00000   |   V(start): -10.000 \n",
      "after iteration 157\n",
      "iter    0   |   diff: 0.00000   |   V(start): -10.000 \n",
      "after iteration 158\n",
      "iter    0   |   diff: 0.00000   |   V(start): -10.000 \n",
      "after iteration 159\n",
      "iter    0   |   diff: 0.00000   |   V(start): -10.000 \n",
      "after iteration 160\n",
      "iter    0   |   diff: 0.00000   |   V(start): -10.000 \n",
      "after iteration 161\n",
      "iter    0   |   diff: 0.00000   |   V(start): -10.000 \n",
      "after iteration 162\n",
      "iter    0   |   diff: 0.00000   |   V(start): -10.000 \n",
      "after iteration 163\n",
      "iter    0   |   diff: 0.00000   |   V(start): -10.000 \n",
      "after iteration 164\n",
      "iter    0   |   diff: 0.00000   |   V(start): -10.000 \n",
      "after iteration 165\n",
      "iter    0   |   diff: 0.00000   |   V(start): -10.000 \n",
      "after iteration 166\n",
      "iter    0   |   diff: 0.00000   |   V(start): -10.000 \n",
      "after iteration 167\n",
      "iter    0   |   diff: 0.00000   |   V(start): -10.000 \n",
      "after iteration 168\n",
      "iter    0   |   diff: 0.00000   |   V(start): -10.000 \n",
      "after iteration 169\n",
      "iter    0   |   diff: 0.00000   |   V(start): -10.000 \n",
      "after iteration 170\n",
      "iter    0   |   diff: 0.00000   |   V(start): -10.000 \n",
      "after iteration 171\n",
      "iter    0   |   diff: 0.00000   |   V(start): -10.000 \n",
      "after iteration 172\n",
      "iter    0   |   diff: 0.00000   |   V(start): -10.000 \n",
      "after iteration 173\n",
      "iter    0   |   diff: 0.00000   |   V(start): -10.000 \n",
      "after iteration 174\n",
      "iter    0   |   diff: 0.00000   |   V(start): -10.000 \n",
      "after iteration 175\n",
      "iter    0   |   diff: 0.00000   |   V(start): -10.000 \n",
      "after iteration 176\n",
      "iter    0   |   diff: 0.00000   |   V(start): -10.000 \n",
      "after iteration 177\n",
      "iter    0   |   diff: 0.00000   |   V(start): -10.000 \n",
      "after iteration 178\n",
      "iter    0   |   diff: 0.00000   |   V(start): -10.000 \n",
      "after iteration 179\n",
      "iter    0   |   diff: 0.00000   |   V(start): -10.000 \n",
      "after iteration 180\n",
      "iter    0   |   diff: 0.00000   |   V(start): -10.000 \n",
      "after iteration 181\n",
      "iter    0   |   diff: 0.00000   |   V(start): -10.000 \n",
      "after iteration 182\n",
      "iter    0   |   diff: 0.00000   |   V(start): -10.000 \n",
      "after iteration 183\n",
      "iter    0   |   diff: 0.00000   |   V(start): -10.000 \n",
      "after iteration 184\n",
      "iter    0   |   diff: 0.00000   |   V(start): -10.000 \n",
      "after iteration 185\n",
      "iter    0   |   diff: 0.00000   |   V(start): -10.000 \n",
      "after iteration 186\n",
      "iter    0   |   diff: 0.00000   |   V(start): -10.000 \n",
      "after iteration 187\n",
      "iter    0   |   diff: 0.00000   |   V(start): -10.000 \n",
      "after iteration 188\n",
      "iter    0   |   diff: 0.00000   |   V(start): -10.000 \n",
      "after iteration 189\n",
      "iter    0   |   diff: 0.00000   |   V(start): -10.000 \n",
      "after iteration 190\n",
      "iter    0   |   diff: 0.00000   |   V(start): -10.000 \n",
      "after iteration 191\n",
      "iter    0   |   diff: 0.00000   |   V(start): -10.000 \n",
      "after iteration 192\n",
      "iter    0   |   diff: 0.00000   |   V(start): -10.000 \n",
      "after iteration 193\n",
      "iter    0   |   diff: 0.00000   |   V(start): -10.000 \n",
      "after iteration 194\n",
      "iter    0   |   diff: 0.00000   |   V(start): -10.000 \n",
      "after iteration 195\n",
      "iter    0   |   diff: 0.00000   |   V(start): -10.000 \n",
      "after iteration 196\n",
      "iter    0   |   diff: 0.00000   |   V(start): -10.000 \n",
      "after iteration 197\n",
      "iter    0   |   diff: 0.00000   |   V(start): -10.000 \n",
      "after iteration 198\n",
      "iter    0   |   diff: 0.00000   |   V(start): -10.000 \n",
      "after iteration 199\n",
      "iter    0   |   diff: 0.00000   |   V(start): -10.000 \n",
      "after iteration 200\n",
      "iter    0   |   diff: 0.00000   |   V(start): -10.000 \n",
      "after iteration 201\n",
      "iter    0   |   diff: 0.00000   |   V(start): -10.000 \n",
      "after iteration 202\n",
      "iter    0   |   diff: 0.00000   |   V(start): -10.000 \n",
      "after iteration 203\n",
      "iter    0   |   diff: 0.00000   |   V(start): -10.000 \n",
      "after iteration 204\n",
      "iter    0   |   diff: 0.00000   |   V(start): -10.000 \n",
      "after iteration 205\n",
      "iter    0   |   diff: 0.00000   |   V(start): -10.000 \n",
      "after iteration 206\n",
      "iter    0   |   diff: 0.00000   |   V(start): -10.000 \n",
      "after iteration 207\n",
      "iter    0   |   diff: 0.00000   |   V(start): -10.000 \n",
      "after iteration 208\n",
      "iter    0   |   diff: 0.00000   |   V(start): -10.000 \n",
      "after iteration 209\n",
      "iter    0   |   diff: 0.00000   |   V(start): -10.000 \n",
      "after iteration 210\n",
      "iter    0   |   diff: 0.00000   |   V(start): -10.000 \n",
      "after iteration 211\n",
      "iter    0   |   diff: 0.00000   |   V(start): -10.000 \n",
      "after iteration 212\n",
      "iter    0   |   diff: 0.00000   |   V(start): -10.000 \n",
      "after iteration 213\n",
      "iter    0   |   diff: 0.00000   |   V(start): -10.000 \n",
      "after iteration 214\n",
      "iter    0   |   diff: 0.00000   |   V(start): -10.000 \n",
      "after iteration 215\n",
      "iter    0   |   diff: 0.00000   |   V(start): -10.000 \n",
      "after iteration 216\n",
      "iter    0   |   diff: 0.00000   |   V(start): -10.000 \n",
      "after iteration 217\n",
      "iter    0   |   diff: 0.00000   |   V(start): -10.000 \n",
      "after iteration 218\n",
      "iter    0   |   diff: 0.00000   |   V(start): -10.000 \n",
      "after iteration 219\n",
      "iter    0   |   diff: 0.00000   |   V(start): -10.000 \n",
      "after iteration 220\n",
      "iter    0   |   diff: 0.00000   |   V(start): -10.000 \n",
      "after iteration 221\n",
      "iter    0   |   diff: 0.00000   |   V(start): -10.000 \n",
      "after iteration 222\n",
      "iter    0   |   diff: 0.00000   |   V(start): -10.000 \n",
      "after iteration 223\n",
      "iter    0   |   diff: 0.00000   |   V(start): -10.000 \n",
      "after iteration 224\n",
      "iter    0   |   diff: 0.00000   |   V(start): -10.000 \n",
      "after iteration 225\n",
      "iter    0   |   diff: 0.00000   |   V(start): -10.000 \n",
      "after iteration 226\n",
      "iter    0   |   diff: 0.00000   |   V(start): -10.000 \n",
      "after iteration 227\n",
      "iter    0   |   diff: 0.00000   |   V(start): -10.000 \n",
      "after iteration 228\n",
      "iter    0   |   diff: 0.00000   |   V(start): -10.000 \n",
      "N actions changed = 1 \n",
      "\n",
      "Well done!\n"
     ]
    }
   ],
   "source": [
    "state_values = {s : 0 for s in mdp.get_all_states()}\n",
    "policy = [get_optimal_action(mdp, state_values, state, gamma) \n",
    "          for state in sorted(mdp.get_all_states())]\n",
    "\n",
    "for i in range(500):\n",
    "    print(\"after iteration %i\"%i)\n",
    "    state_values = value_iteration(mdp, state_values, num_iter=1)\n",
    "    \n",
    "    new_policy = [get_optimal_action(mdp, state_values, state, gamma) \n",
    "                  for state in sorted(mdp.get_all_states())]\n",
    "    \n",
    "    n_changes = (np.array(policy) != np.array(new_policy)).sum()\n",
    "    if n_changes:\n",
    "        print(\"N actions changed = %i \\n\" % n_changes)\n",
    "    policy = new_policy\n",
    "    if i >= 50 and n_changes != 0:\n",
    "        print('Well done!')\n",
    "        break\n",
    "else:\n",
    "    print(':-(')\n",
    "# please ignore iter 0 at each step"
   ]
  },
  {
   "cell_type": "code",
   "execution_count": 29,
   "metadata": {},
   "outputs": [
    {
     "data": {
      "text/plain": [
       "['a1', 'a0', 'a1']"
      ]
     },
     "execution_count": 29,
     "metadata": {},
     "output_type": "execute_result"
    }
   ],
   "source": [
    "new_policy"
   ]
  },
  {
   "cell_type": "markdown",
   "metadata": {},
   "source": [
    "### Bonus 2 - Policy Iteration (3+ points)\n",
    "\n",
    "Let's implement exact policy iteration (PI), which has the following pseudocode:\n",
    "\n",
    "---\n",
    "Initialize $\\pi_0$   `// random or fixed action`\n",
    "\n",
    "For $n=0, 1, 2, \\dots$\n",
    "- Compute the state-value function $V^{\\pi_{n}}$\n",
    "- Using $V^{\\pi_{n}}$, compute the state-action-value function $Q^{\\pi_{n}}$\n",
    "- Compute new policy $\\pi_{n+1}(s) = \\operatorname*{argmax}_a Q^{\\pi_{n}}(s,a)$\n",
    "---\n",
    "\n",
    "Unlike VI, policy iteration has to maintain a policy - chosen actions from all states - and estimate $V^{\\pi_{n}}$ based on this policy. It only changes policy once values converged.\n",
    "\n",
    "\n",
    "Below are a few helpers that you may or may not use in your implementation."
   ]
  },
  {
   "cell_type": "code",
   "execution_count": 93,
   "metadata": {
    "collapsed": true
   },
   "outputs": [],
   "source": [
    "transition_probs = {\n",
    "  's0':{\n",
    "    'a0': {'s0': 0.5, 's2': 0.5},\n",
    "    'a1': {'s2': 1}\n",
    "  },\n",
    "  's1':{\n",
    "    'a0': {'s0': 0.7, 's1': 0.1, 's2': 0.2},\n",
    "    'a1': {'s1': 0.95, 's2': 0.05}\n",
    "  },\n",
    "  's2':{\n",
    "    'a0': {'s0': 0.4, 's1': 0.6},\n",
    "    'a1': {'s0': 0.3, 's1': 0.3, 's2':0.4}\n",
    "  }\n",
    "}\n",
    "rewards = {\n",
    "  's1': {'a0': {'s0': +5}},\n",
    "  's2': {'a1': {'s0': -1}}\n",
    "}\n",
    "\n",
    "from mdp import MDP\n",
    "mdp = MDP(transition_probs, rewards, initial_state='s0')"
   ]
  },
  {
   "cell_type": "markdown",
   "metadata": {},
   "source": [
    "Let's write a function called `compute_vpi` that computes the state-value function $V^{\\pi}$ for an arbitrary policy $\\pi$.\n",
    "\n",
    "Unlike VI, this time you must find the exact solution, not just a single iteration.\n",
    "\n",
    "Recall that $V^{\\pi}$ satisfies the following linear equation:\n",
    "$$V^{\\pi}(s) = \\sum_{s'} P(s,\\pi(s),s')[ R(s,\\pi(s),s') + \\gamma V^{\\pi}(s')]$$\n",
    "\n",
    "You'll have to solve a linear system in your code. (Find an exact solution, e.g., with `np.linalg.solve`.)"
   ]
  },
  {
   "cell_type": "code",
   "execution_count": 94,
   "metadata": {
    "collapsed": true
   },
   "outputs": [],
   "source": [
    "def get_matrix_elem(state, policy, new_state, mdp):\n",
    "    is_diag = 0 if new_state != state else 1\n",
    "    return -mdp.get_transition_prob(state, policy[state], new_state) * gamma + is_diag"
   ]
  },
  {
   "cell_type": "code",
   "execution_count": 95,
   "metadata": {
    "collapsed": true
   },
   "outputs": [],
   "source": [
    "def get_new_vpi(mdp, policy, gamma):\n",
    "    \"\"\"\n",
    "    Computes updated V^pi(s) FOR ALL STATES under given policy.\n",
    "    :param state_values: a dict of previous state values {state : V(s)}\n",
    "    :param policy: a dict of currently chosen actions {s : a}\n",
    "    :returns: a dict {state : V^pi(state) for all states}\n",
    "    \"\"\"\n",
    "    all_states = [state for state in mdp.get_all_states()\n",
    "                  if len(mdp.get_possible_actions(state))]\n",
    "    \n",
    "    A = [[\n",
    "            get_matrix_elem(state, policy, new_state, mdp)\n",
    "            for new_state in all_states\n",
    "        ]\n",
    "        for state in all_states\n",
    "    ]\n",
    "    \n",
    "    b = [\n",
    "        sum(\n",
    "            mdp.get_transition_prob(state, policy[state], new_state) *\n",
    "            mdp.get_reward(state, policy[state], new_state)\n",
    "            for new_state in mdp.get_next_states(state, policy[state])\n",
    "        )\n",
    "        for state in all_states\n",
    "    ]\n",
    "    end_states = {state: 0 for state in mdp.get_all_states()\n",
    "                  if not len(mdp.get_possible_actions(state))}\n",
    "    active_sates = {state: value for state, value in zip(all_states, np.linalg.solve(A, b))}\n",
    "    return {**end_states, **active_sates}"
   ]
  },
  {
   "cell_type": "code",
   "execution_count": 96,
   "metadata": {},
   "outputs": [
    {
     "name": "stdout",
     "output_type": "stream",
     "text": [
      "{'s0': 8.4240740175272482, 's1': 11.919142569238751, 's2': 8.8674463342392098}\n"
     ]
    }
   ],
   "source": [
    "test_policy = {s: np.random.choice(mdp.get_possible_actions(s)) for s in mdp.get_all_states()}\n",
    "new_vpi = get_new_vpi(mdp, test_policy, gamma)\n",
    "\n",
    "print(new_vpi)\n",
    "\n",
    "assert type(new_vpi) is dict, \"compute_vpi must return a dict {state : V^pi(state) for all states}\""
   ]
  },
  {
   "cell_type": "markdown",
   "metadata": {},
   "source": [
    "Once we've got new state values, it's time to update our policy."
   ]
  },
  {
   "cell_type": "code",
   "execution_count": 97,
   "metadata": {
    "collapsed": true
   },
   "outputs": [],
   "source": [
    "def compute_new_policy(mdp, vpi, gamma):\n",
    "    \"\"\"\n",
    "    Computes new policy as argmax of state values\n",
    "    :param vpi: a dict {state : V^pi(state) for all states}\n",
    "    :returns: a dict {state : optimal action for all states}\n",
    "    \"\"\"\n",
    "    result = {}\n",
    "    for state in mdp.get_all_states():\n",
    "        possible_actions = mdp.get_possible_actions(state)\n",
    "        if len(possible_actions):\n",
    "            best_choice = np.argmax([\n",
    "                sum(\n",
    "                    mdp.get_transition_prob(state, action, new_state) *\n",
    "                    (mdp.get_reward(state, action, new_state) + gamma * vpi[new_state])\n",
    "                    for new_state in mdp.get_next_states(state, action)\n",
    "                )\n",
    "                for action in possible_actions\n",
    "            ])\n",
    "            result[state] = possible_actions[best_choice]\n",
    "    return result"
   ]
  },
  {
   "cell_type": "code",
   "execution_count": 98,
   "metadata": {},
   "outputs": [
    {
     "name": "stdout",
     "output_type": "stream",
     "text": [
      "{'s0': 'a1', 's1': 'a0', 's2': 'a0'}\n"
     ]
    }
   ],
   "source": [
    "new_policy = compute_new_policy(mdp, new_vpi, gamma)\n",
    "\n",
    "print(new_policy)\n",
    "\n",
    "assert type(new_policy) is dict, \"compute_new_policy must return a dict {state : optimal action for all states}\""
   ]
  },
  {
   "cell_type": "markdown",
   "metadata": {},
   "source": [
    "__Main loop__"
   ]
  },
  {
   "cell_type": "code",
   "execution_count": 141,
   "metadata": {
    "collapsed": true
   },
   "outputs": [],
   "source": [
    "def policy_iteration(mdp, policy=None, gamma=0.9, num_iter=1000, min_difference=1e-5):\n",
    "    \"\"\" \n",
    "    Run the policy iteration loop for num_iter iterations or till difference between V(s) is below min_difference.\n",
    "    If policy is not given, initialize it at random.\n",
    "    \"\"\"\n",
    "    if policy is None:\n",
    "        policy = {state: np.random.choice(mdp.get_possible_actions(state))\n",
    "                  for state in mdp.get_all_states()\n",
    "                  if len(mdp.get_possible_actions(state)) > 0}\n",
    "    state_values = None\n",
    "    for i in range(num_iter):\n",
    "        new_state_values = get_new_vpi(mdp, policy, gamma)\n",
    "        new_policy = compute_new_policy(mdp, new_state_values, gamma)\n",
    "        \n",
    "        if state_values is None:\n",
    "            state_values_not_change = False\n",
    "        else:\n",
    "            delta = max(\n",
    "                abs(state_values[state] - new_state_values[state])\n",
    "                for state in mdp.get_all_states()\n",
    "            )\n",
    "            state_values_not_change = delta < min_difference\n",
    "\n",
    "        state_values = new_state_values\n",
    "        policy = new_policy\n",
    "        if state_values_not_change:\n",
    "            break\n",
    "\n",
    "    return state_values, policy"
   ]
  },
  {
   "cell_type": "markdown",
   "metadata": {},
   "source": [
    "## Your PI Results"
   ]
  },
  {
   "cell_type": "code",
   "execution_count": 142,
   "metadata": {
    "collapsed": true
   },
   "outputs": [],
   "source": [
    "def run_n_times(n, function, *args, **kwargs):\n",
    "    for _ in range(n):\n",
    "        result = function(*args, **kwargs)\n",
    "    return result"
   ]
  },
  {
   "cell_type": "markdown",
   "metadata": {},
   "source": [
    "### MDP from bonus 1"
   ]
  },
  {
   "cell_type": "code",
   "execution_count": 143,
   "metadata": {
    "collapsed": true
   },
   "outputs": [],
   "source": [
    "mdp = get_mdp(-29.45)\n",
    "gamma = 0.95"
   ]
  },
  {
   "cell_type": "code",
   "execution_count": 144,
   "metadata": {},
   "outputs": [
    {
     "name": "stdout",
     "output_type": "stream",
     "text": [
      "CPU times: user 208 ms, sys: 7.3 ms, total: 216 ms\n",
      "Wall time: 200 ms\n"
     ]
    },
    {
     "data": {
      "text/plain": [
       "({'s0': 8.5499999999999652,\n",
       "  's1': 19.999999999999982,\n",
       "  's2': 39.999999999999964},\n",
       " {'s0': 'a1', 's1': 'a0', 's2': 'a1'})"
      ]
     },
     "execution_count": 144,
     "metadata": {},
     "output_type": "execute_result"
    }
   ],
   "source": [
    "%%time\n",
    "\n",
    "run_n_times(500, policy_iteration, mdp, gamma=gamma)"
   ]
  },
  {
   "cell_type": "code",
   "execution_count": 158,
   "metadata": {},
   "outputs": [
    {
     "name": "stdout",
     "output_type": "stream",
     "text": [
      "CPU times: user 2.29 s, sys: 0 ns, total: 2.29 s\n",
      "Wall time: 2.29 s\n"
     ]
    }
   ],
   "source": [
    "%%time\n",
    "\n",
    "state_values = run_n_times(500, value_iteration, mdp, gamma=gamma, silent=True)"
   ]
  },
  {
   "cell_type": "code",
   "execution_count": 159,
   "metadata": {},
   "outputs": [
    {
     "data": {
      "text/plain": [
       "{'s0': 8.549810328684902, 's1': 19.99990516434245, 's2': 39.9998103286849}"
      ]
     },
     "execution_count": 159,
     "metadata": {},
     "output_type": "execute_result"
    }
   ],
   "source": [
    "state_values"
   ]
  },
  {
   "cell_type": "code",
   "execution_count": 160,
   "metadata": {},
   "outputs": [
    {
     "data": {
      "text/plain": [
       "{'s0': 'a1', 's1': 'a0', 's2': 'a1'}"
      ]
     },
     "execution_count": 160,
     "metadata": {},
     "output_type": "execute_result"
    }
   ],
   "source": [
    "compute_new_policy(mdp, state_values, gamma)"
   ]
  },
  {
   "cell_type": "markdown",
   "metadata": {},
   "source": [
    "Оба алгоритма сошлись к правильному значению V, но VI сделал это в 10 раз медленней. Попробуем уменьшить min_difference"
   ]
  },
  {
   "cell_type": "code",
   "execution_count": 161,
   "metadata": {},
   "outputs": [
    {
     "name": "stdout",
     "output_type": "stream",
     "text": [
      "CPU times: user 625 ms, sys: 0 ns, total: 625 ms\n",
      "Wall time: 625 ms\n"
     ]
    }
   ],
   "source": [
    "%%time\n",
    "\n",
    "state_values = run_n_times(500, value_iteration, mdp, min_difference=1e-1, gamma=gamma, silent=True)"
   ]
  },
  {
   "cell_type": "code",
   "execution_count": 162,
   "metadata": {},
   "outputs": [
    {
     "data": {
      "text/plain": [
       "{'s0': 6.7072080405218735, 's1': 19.078604020260936, 's2': 38.15720804052187}"
      ]
     },
     "execution_count": 162,
     "metadata": {},
     "output_type": "execute_result"
    }
   ],
   "source": [
    "state_values"
   ]
  },
  {
   "cell_type": "code",
   "execution_count": 163,
   "metadata": {},
   "outputs": [
    {
     "data": {
      "text/plain": [
       "{'s0': 'a1', 's1': 'a0', 's2': 'a1'}"
      ]
     },
     "execution_count": 163,
     "metadata": {},
     "output_type": "execute_result"
    }
   ],
   "source": [
    "compute_new_policy(mdp, state_values, gamma)"
   ]
  },
  {
   "cell_type": "markdown",
   "metadata": {},
   "source": [
    "Все равно VI медленнее, а приэтом state_values уже существенно отличаются от правильных."
   ]
  },
  {
   "cell_type": "markdown",
   "metadata": {},
   "source": [
    "### Small FrozenLake"
   ]
  },
  {
   "cell_type": "code",
   "execution_count": 165,
   "metadata": {
    "collapsed": true
   },
   "outputs": [],
   "source": [
    "mdp = FrozenLakeEnv(slip_chance=0.1)"
   ]
  },
  {
   "cell_type": "code",
   "execution_count": 168,
   "metadata": {},
   "outputs": [
    {
     "data": {
      "image/png": "[encoded data removed]",
      "text/plain": [
       "<matplotlib.figure.Figure at 0x7ff40f038a58>"
      ]
     },
     "metadata": {},
     "output_type": "display_data"
    },
    {
     "name": "stdout",
     "output_type": "stream",
     "text": [
      "CPU times: user 2.41 s, sys: 42.3 ms, total: 2.45 s\n",
      "Wall time: 2.27 s\n"
     ]
    }
   ],
   "source": [
    "%%time\n",
    "\n",
    "state_values, policy = run_n_times(500, policy_iteration, mdp)\n",
    "draw_policy(mdp, state_values)"
   ]
  },
  {
   "cell_type": "code",
   "execution_count": 171,
   "metadata": {},
   "outputs": [
    {
     "data": {
      "image/png": "[encoded data removed]",
      "text/plain": [
       "<matplotlib.figure.Figure at 0x7ff435e08a58>"
      ]
     },
     "metadata": {},
     "output_type": "display_data"
    },
    {
     "name": "stdout",
     "output_type": "stream",
     "text": [
      "CPU times: user 1.94 s, sys: 0 ns, total: 1.94 s\n",
      "Wall time: 1.94 s\n"
     ]
    }
   ],
   "source": [
    "%%time\n",
    "\n",
    "state_values = run_n_times(500, value_iteration, mdp, silent=True)\n",
    "draw_policy(mdp, state_values)"
   ]
  },
  {
   "cell_type": "markdown",
   "metadata": {},
   "source": [
    "Здесь уже VI лучше себя показывает. Здесь не нужно много итераций, ведь награда получается только по достижению конечной вершины, которая является терминальной. А итерация в PI считается дольше."
   ]
  },
  {
   "cell_type": "markdown",
   "metadata": {},
   "source": [
    "### Large FrozenLake"
   ]
  },
  {
   "cell_type": "code",
   "execution_count": 172,
   "metadata": {
    "collapsed": true
   },
   "outputs": [],
   "source": [
    "mdp = FrozenLakeEnv(map_name='8x8', slip_chance=0.1)"
   ]
  },
  {
   "cell_type": "code",
   "execution_count": 173,
   "metadata": {},
   "outputs": [
    {
     "data": {
      "image/png": "[encoded data removed]",
      "text/plain": [
       "<matplotlib.figure.Figure at 0x7ff40f038be0>"
      ]
     },
     "metadata": {},
     "output_type": "display_data"
    },
    {
     "name": "stdout",
     "output_type": "stream",
     "text": [
      "CPU times: user 27.6 s, sys: 137 ms, total: 27.7 s\n",
      "Wall time: 27.3 s\n"
     ]
    }
   ],
   "source": [
    "%%time\n",
    "\n",
    "state_values, policy = run_n_times(500, policy_iteration, mdp)\n",
    "draw_policy(mdp, state_values)"
   ]
  },
  {
   "cell_type": "code",
   "execution_count": 174,
   "metadata": {},
   "outputs": [
    {
     "data": {
      "image/png": "[encoded data removed]",
      "text/plain": [
       "<matplotlib.figure.Figure at 0x7ff40f8a0f28>"
      ]
     },
     "metadata": {},
     "output_type": "display_data"
    },
    {
     "name": "stdout",
     "output_type": "stream",
     "text": [
      "CPU times: user 14.3 s, sys: 3.86 ms, total: 14.3 s\n",
      "Wall time: 14.3 s\n"
     ]
    }
   ],
   "source": [
    "%%time\n",
    "\n",
    "state_values = run_n_times(500, value_iteration, mdp, silent=True)\n",
    "draw_policy(mdp, state_values)"
   ]
  },
  {
   "cell_type": "markdown",
   "metadata": {},
   "source": [
    "Здесь еще более выигрышная ситуация для VI"
   ]
  }
 ],
 "metadata": {
  "kernelspec": {
   "display_name": "Python 3",
   "language": "python",
   "name": "python3"
  },
  "language_info": {
   "codemirror_mode": {
    "name": "ipython",
    "version": 3
   },
   "file_extension": ".py",
   "mimetype": "text/x-python",
   "name": "python",
   "nbconvert_exporter": "python",
   "pygments_lexer": "ipython3",
   "version": "3.6.3"
  }
 },
 "nbformat": 4,
 "nbformat_minor": 2
}
